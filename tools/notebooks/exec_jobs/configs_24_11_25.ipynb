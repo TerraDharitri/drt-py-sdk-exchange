{
 "cells": [
  {
   "cell_type": "code",
   "execution_count": null,
   "metadata": {},
   "outputs": [],
   "source": [
    "import sys\n",
    "from pathlib import Path\n",
    "sys.path.append(str(Path.cwd().parent.parent.parent.absolute()))\n",
    "import config\n",
    "from context import Context\n",
    "from contracts.farm_contract import FarmContract\n",
    "from contracts.pair_contract import PairContract\n",
    "from contracts.position_creator_contract import PositionCreatorContract\n",
    "from contracts.simple_lock_energy_contract import SimpleLockEnergyContract\n",
    "from utils.utils_generic import log_warning, log_step_pass, log_step_fail\n",
    "\n",
    "context = Context()\n",
    "\n",
    "REWAMOA_POOL_ADDRESS = \"drt1qqqqqqqqqqqqqpgqa0fsfshnff4n76jhcye6k7uvd7qacsq42jpsux8555\"\n",
    "REWAFOXSY_POOL_ADDRESS = \"drt1qqqqqqqqqqqqqpgq5jnjpsukhl295ry3wjrd3gtff0amrgux2jpsld56l9\"\n",
    "\n",
    "moa_pair_contract = PairContract.load_contract_by_address(REWAMOA_POOL_ADDRESS)\n",
    "foxsy_pair_contract = PairContract.load_contract_by_address(REWAFOXSY_POOL_ADDRESS)\n",
    "log_warning(f'Pair contract: {moa_pair_contract.lpToken} {moa_pair_contract.address}')\n",
    "log_warning(f'Pair contract: {foxsy_pair_contract.lpToken} {foxsy_pair_contract.address}')\n",
    "\n",
    "energy_factory: SimpleLockEnergyContract\n",
    "energy_factory = context.get_contracts(config.SIMPLE_LOCKS_ENERGY)[0]\n",
    "\n",
    "moa_farm_contract = FarmContract.load_contract_by_address(\"drt1qqqqqqqqqqqqqpgqtdc0rzjwmp9qs0h0wj9pjwxnp5vjc9hdkp2sn3zw9u\")\n",
    "foxsy_farm_contract = FarmContract.load_contract_by_address(\"drt1qqqqqqqqqqqqqpgqu288dj3qgrelujal5wynsv5zrf7u0hwlkp2sydsjsq\")\n",
    "log_warning(f'New MOA Farm contract: {moa_farm_contract.farmToken}')\n",
    "log_warning(f'New FOXSY Farm contract: {foxsy_farm_contract.farmToken}')\n",
    "\n",
    "position_creator_contract: PositionCreatorContract\n",
    "position_creator_contract = context.get_contracts(config.POSITION_CREATOR)[0]"
   ]
  },
  {
   "cell_type": "code",
   "execution_count": null,
   "metadata": {},
   "outputs": [],
   "source": [
    "from contracts.metastaking_contract import MetaStakingContract\n",
    "from contracts.staking_contract import StakingContract\n",
    "\n",
    "metastaking_contract = MetaStakingContract.load_contract_by_address(\"erd1qqqqqqqqqqqqqpgqqcgdee7ut4qdrt942fpgtk9da53acmserkp2sez9f70\")\n",
    "staking_contract = StakingContract.load_contract_by_address(\"drt1qqqqqqqqqqqqqpgq2e4fmlhcv90wrxl2acjpcu3g2l9rpkttx9rs6akzpl\")\n",
    "log_warning(f'Metastake contract: {metastaking_contract.metastake_token}')\n",
    "log_warning(f'Stake contract: {staking_contract.farm_token}')"
   ]
  },
  {
   "cell_type": "markdown",
   "metadata": {},
   "source": [
    "Change owners"
   ]
  },
  {
   "cell_type": "code",
   "execution_count": null,
   "metadata": {},
   "outputs": [],
   "source": [
    "new_owner = \"drt1ss6u80ruas2phpmr82r42xnkd6rxy40g9jl69frppl4qez9w2jpsaws9xq\""
   ]
  },
  {
   "cell_type": "code",
   "execution_count": null,
   "metadata": {},
   "outputs": [],
   "source": [
    "moa_farm_contract.change_owner_address(context.deployer_account, context.network_provider.proxy, new_owner)"
   ]
  },
  {
   "cell_type": "code",
   "execution_count": null,
   "metadata": {},
   "outputs": [],
   "source": [
    "foxsy_farm_contract.change_owner_address(context.deployer_account, context.network_provider.proxy, new_owner)"
   ]
  },
  {
   "cell_type": "code",
   "execution_count": null,
   "metadata": {},
   "outputs": [],
   "source": [
    "metastaking_contract.change_owner_address(context.deployer_account, context.network_provider.proxy, new_owner)"
   ]
  },
  {
   "cell_type": "markdown",
   "metadata": {},
   "source": [
    "Take ownership"
   ]
  },
  {
   "cell_type": "code",
   "execution_count": null,
   "metadata": {},
   "outputs": [],
   "source": [
    "old_owner = \"drt19uysnnzwnzm3klq8qzv7zprw2d3yj38hx0ac9cuqvl0j2jr5kp2s5rmc8j\""
   ]
  },
  {
   "cell_type": "code",
   "execution_count": null,
   "metadata": {},
   "outputs": [],
   "source": [
    "moa_farm_contract.update_owner_or_admin(context.deployer_account, context.network_provider.proxy, old_owner)"
   ]
  },
  {
   "cell_type": "code",
   "execution_count": null,
   "metadata": {},
   "outputs": [],
   "source": [
    "foxsy_farm_contract.update_owner_or_admin(context.deployer_account, context.network_provider.proxy, old_owner)"
   ]
  },
  {
   "cell_type": "markdown",
   "metadata": {},
   "source": [
    "REWAMOA farm config"
   ]
  },
  {
   "cell_type": "code",
   "execution_count": null,
   "metadata": {},
   "outputs": [],
   "source": [
    "moa_pair_contract.whitelist_contract(context.deployer_account, context.network_provider.proxy, moa_farm_contract.address)"
   ]
  },
  {
   "cell_type": "code",
   "execution_count": null,
   "metadata": {},
   "outputs": [],
   "source": [
    "energy_factory.add_sc_to_whitelist(context.deployer_account, context.network_provider.proxy, moa_farm_contract.address)"
   ]
  },
  {
   "cell_type": "code",
   "execution_count": null,
   "metadata": {},
   "outputs": [],
   "source": [
    "energy_factory.set_transfer_role_locked_token(context.deployer_account, context.network_provider.proxy, [moa_farm_contract.address])"
   ]
  },
  {
   "cell_type": "markdown",
   "metadata": {},
   "source": [
    "REWAFOXSY farm config"
   ]
  },
  {
   "cell_type": "code",
   "execution_count": null,
   "metadata": {},
   "outputs": [],
   "source": [
    "foxsy_pair_contract.whitelist_contract(context.deployer_account, context.network_provider.proxy, foxsy_farm_contract.address)"
   ]
  },
  {
   "cell_type": "code",
   "execution_count": null,
   "metadata": {},
   "outputs": [],
   "source": [
    "energy_factory.add_sc_to_whitelist(context.deployer_account, context.network_provider.proxy, foxsy_farm_contract.address)"
   ]
  },
  {
   "cell_type": "code",
   "execution_count": null,
   "metadata": {},
   "outputs": [],
   "source": [
    "energy_factory.set_transfer_role_locked_token(context.deployer_account, context.network_provider.proxy, [foxsy_farm_contract.address])"
   ]
  },
  {
   "cell_type": "markdown",
   "metadata": {},
   "source": [
    "FOXSY Metastaking config"
   ]
  },
  {
   "cell_type": "code",
   "execution_count": null,
   "metadata": {},
   "outputs": [],
   "source": [
    "foxsy_pair_contract.whitelist_contract(context.deployer_account, context.network_provider.proxy, metastaking_contract.address)"
   ]
  },
  {
   "cell_type": "code",
   "execution_count": null,
   "metadata": {},
   "outputs": [],
   "source": [
    "staking_contract.whitelist_contract(context.deployer_account, context.network_provider.proxy, metastaking_contract.address)"
   ]
  },
  {
   "cell_type": "code",
   "execution_count": null,
   "metadata": {},
   "outputs": [],
   "source": [
    "energy_factory.set_transfer_role_locked_token(context.deployer_account, context.network_provider.proxy, [metastaking_contract.address])"
   ]
  },
  {
   "cell_type": "markdown",
   "metadata": {},
   "source": [
    "Position creator whitelist"
   ]
  },
  {
   "cell_type": "code",
   "execution_count": null,
   "metadata": {},
   "outputs": [],
   "source": [
    "moa_farm_contract.add_contract_to_whitelist(context.deployer_account, context.network_provider.proxy, position_creator_contract.address)"
   ]
  },
  {
   "cell_type": "code",
   "execution_count": null,
   "metadata": {},
   "outputs": [],
   "source": [
    "foxsy_farm_contract.add_contract_to_whitelist(context.deployer_account, context.network_provider.proxy, position_creator_contract.address)"
   ]
  },
  {
   "cell_type": "code",
   "execution_count": null,
   "metadata": {},
   "outputs": [],
   "source": [
    "metastaking_contract.whitelist_contract(context.deployer_account, context.network_provider.proxy, position_creator_contract.address)"
   ]
  },
  {
   "cell_type": "markdown",
   "metadata": {},
   "source": [
    "Set farm rewards per block for farms"
   ]
  },
  {
   "cell_type": "code",
   "execution_count": null,
   "metadata": {},
   "outputs": [],
   "source": [
    "moa_farm_contract.set_rewards_per_block(context.deployer_account, context.network_provider.proxy, 61100*10**18)"
   ]
  },
  {
   "cell_type": "code",
   "execution_count": null,
   "metadata": {},
   "outputs": [],
   "source": [
    "old_moa_farm_contract = FarmContract.load_contract_by_address(\"drt1qqqqqqqqqqqqqpgqapxdp9gjxtg60mjwhle3n6h88zch9e7kkp2s6ph54k\")\n",
    "log_warning(f'Old MOA Farm contract: {old_moa_farm_contract.farmToken}')\n",
    "old_moa_farm_contract.set_rewards_per_block(context.deployer_account, context.network_provider.proxy, 61100*10**18)"
   ]
  },
  {
   "cell_type": "markdown",
   "metadata": {},
   "source": [
    "Start new farms"
   ]
  },
  {
   "cell_type": "code",
   "execution_count": null,
   "metadata": {},
   "outputs": [],
   "source": [
    "moa_farm_contract.resume(context.deployer_account, context.network_provider.proxy)"
   ]
  },
  {
   "cell_type": "markdown",
   "metadata": {},
   "source": [
    "Set rewards active for new farms"
   ]
  },
  {
   "cell_type": "code",
   "execution_count": null,
   "metadata": {},
   "outputs": [],
   "source": [
    "moa_farm_contract.start_produce_rewards(context.deployer_account, context.network_provider.proxy)"
   ]
  },
  {
   "cell_type": "markdown",
   "metadata": {},
   "source": [
    "WXMOA whitelist"
   ]
  },
  {
   "cell_type": "code",
   "execution_count": null,
   "metadata": {},
   "outputs": [],
   "source": [
    "from contracts.lk_wrap_contract import LkWrapContract\n",
    "\n",
    "lk_wrap_contract: LkWrapContract\n",
    "lk_wrap_contract = context.get_contracts(config.LK_WRAPS)[0]\n",
    "\n",
    "lk_wrap_contract.set_transfer_role_wrapped_token(context.deployer_account, context.network_provider.proxy, [\"drt1qqqqqqqqqqqqqpgq9slqavjm7pglxgzuskwlvnq53gnk02vndfysaercz7\"])"
   ]
  }
 ],
 "metadata": {
  "kernelspec": {
   "display_name": "venv",
   "language": "python",
   "name": "python3"
  },
  "language_info": {
   "codemirror_mode": {
    "name": "ipython",
    "version": 3
   },
   "file_extension": ".py",
   "mimetype": "text/x-python",
   "name": "python",
   "nbconvert_exporter": "python",
   "pygments_lexer": "ipython3",
   "version": "3.12.3"
  },
  "orig_nbformat": 4
 },
 "nbformat": 4,
 "nbformat_minor": 2
}
